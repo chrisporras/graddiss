{
  "nbformat": 4,
  "nbformat_minor": 0,
  "metadata": {
    "colab": {
      "provenance": [],
      "include_colab_link": true
    },
    "kernelspec": {
      "name": "python3",
      "display_name": "Python 3"
    },
    "language_info": {
      "name": "python"
    }
  },
  "cells": [
    {
      "cell_type": "markdown",
      "metadata": {
        "id": "view-in-github",
        "colab_type": "text"
      },
      "source": [
        "<a href=\"https://colab.research.google.com/github/chrisporras/graddiss/blob/main/GradientDissentersHackathon2023.ipynb\" target=\"_parent\"><img src=\"https://colab.research.google.com/assets/colab-badge.svg\" alt=\"Open In Colab\"/></a>"
      ]
    },
    {
      "cell_type": "markdown",
      "source": [
        "# Hackathon 2023\n",
        "ML for Biomedical Data Science\n",
        "Team: Gradient Dissenters\n",
        "Members: Audrey Lee, Christian Porras, Joy Jiang"
      ],
      "metadata": {
        "id": "LaUpnlSSLNgW"
      }
    },
    {
      "cell_type": "markdown",
      "source": [
        "## Install and load Kaggle mammography"
      ],
      "metadata": {
        "id": "T1oUMWouNeiE"
      }
    },
    {
      "cell_type": "code",
      "source": [
        "# install Kaggle public api\n",
        "! pip install -q kaggle\n",
        "from google.colab import files\n",
        "files.upload()\n",
        "# Choose the kaggle.json file that you downloaded\n",
        "! mkdir ~/.kaggle\n",
        "! cp kaggle.json ~/.kaggle/\n",
        "# Make directory named kaggle and copy kaggle.json file there.\n",
        "!chmod 600 ~/.kaggle/kaggle.json\n",
        "#Change the permissions of the file.\n",
        "! kaggle datasets list"
      ],
      "metadata": {
        "colab": {
          "base_uri": "https://localhost:8080/",
          "height": 504
        },
        "id": "oWIu_0WgL2so",
        "outputId": "97913b36-7f38-4510-eacf-faccf121b0d0"
      },
      "execution_count": null,
      "outputs": [
        {
          "output_type": "display_data",
          "data": {
            "text/plain": [
              "<IPython.core.display.HTML object>"
            ],
            "text/html": [
              "\n",
              "     <input type=\"file\" id=\"files-df515b64-9cf2-4370-b5e7-2f357448dc3d\" name=\"files[]\" multiple disabled\n",
              "        style=\"border:none\" />\n",
              "     <output id=\"result-df515b64-9cf2-4370-b5e7-2f357448dc3d\">\n",
              "      Upload widget is only available when the cell has been executed in the\n",
              "      current browser session. Please rerun this cell to enable.\n",
              "      </output>\n",
              "      <script>// Copyright 2017 Google LLC\n",
              "//\n",
              "// Licensed under the Apache License, Version 2.0 (the \"License\");\n",
              "// you may not use this file except in compliance with the License.\n",
              "// You may obtain a copy of the License at\n",
              "//\n",
              "//      http://www.apache.org/licenses/LICENSE-2.0\n",
              "//\n",
              "// Unless required by applicable law or agreed to in writing, software\n",
              "// distributed under the License is distributed on an \"AS IS\" BASIS,\n",
              "// WITHOUT WARRANTIES OR CONDITIONS OF ANY KIND, either express or implied.\n",
              "// See the License for the specific language governing permissions and\n",
              "// limitations under the License.\n",
              "\n",
              "/**\n",
              " * @fileoverview Helpers for google.colab Python module.\n",
              " */\n",
              "(function(scope) {\n",
              "function span(text, styleAttributes = {}) {\n",
              "  const element = document.createElement('span');\n",
              "  element.textContent = text;\n",
              "  for (const key of Object.keys(styleAttributes)) {\n",
              "    element.style[key] = styleAttributes[key];\n",
              "  }\n",
              "  return element;\n",
              "}\n",
              "\n",
              "// Max number of bytes which will be uploaded at a time.\n",
              "const MAX_PAYLOAD_SIZE = 100 * 1024;\n",
              "\n",
              "function _uploadFiles(inputId, outputId) {\n",
              "  const steps = uploadFilesStep(inputId, outputId);\n",
              "  const outputElement = document.getElementById(outputId);\n",
              "  // Cache steps on the outputElement to make it available for the next call\n",
              "  // to uploadFilesContinue from Python.\n",
              "  outputElement.steps = steps;\n",
              "\n",
              "  return _uploadFilesContinue(outputId);\n",
              "}\n",
              "\n",
              "// This is roughly an async generator (not supported in the browser yet),\n",
              "// where there are multiple asynchronous steps and the Python side is going\n",
              "// to poll for completion of each step.\n",
              "// This uses a Promise to block the python side on completion of each step,\n",
              "// then passes the result of the previous step as the input to the next step.\n",
              "function _uploadFilesContinue(outputId) {\n",
              "  const outputElement = document.getElementById(outputId);\n",
              "  const steps = outputElement.steps;\n",
              "\n",
              "  const next = steps.next(outputElement.lastPromiseValue);\n",
              "  return Promise.resolve(next.value.promise).then((value) => {\n",
              "    // Cache the last promise value to make it available to the next\n",
              "    // step of the generator.\n",
              "    outputElement.lastPromiseValue = value;\n",
              "    return next.value.response;\n",
              "  });\n",
              "}\n",
              "\n",
              "/**\n",
              " * Generator function which is called between each async step of the upload\n",
              " * process.\n",
              " * @param {string} inputId Element ID of the input file picker element.\n",
              " * @param {string} outputId Element ID of the output display.\n",
              " * @return {!Iterable<!Object>} Iterable of next steps.\n",
              " */\n",
              "function* uploadFilesStep(inputId, outputId) {\n",
              "  const inputElement = document.getElementById(inputId);\n",
              "  inputElement.disabled = false;\n",
              "\n",
              "  const outputElement = document.getElementById(outputId);\n",
              "  outputElement.innerHTML = '';\n",
              "\n",
              "  const pickedPromise = new Promise((resolve) => {\n",
              "    inputElement.addEventListener('change', (e) => {\n",
              "      resolve(e.target.files);\n",
              "    });\n",
              "  });\n",
              "\n",
              "  const cancel = document.createElement('button');\n",
              "  inputElement.parentElement.appendChild(cancel);\n",
              "  cancel.textContent = 'Cancel upload';\n",
              "  const cancelPromise = new Promise((resolve) => {\n",
              "    cancel.onclick = () => {\n",
              "      resolve(null);\n",
              "    };\n",
              "  });\n",
              "\n",
              "  // Wait for the user to pick the files.\n",
              "  const files = yield {\n",
              "    promise: Promise.race([pickedPromise, cancelPromise]),\n",
              "    response: {\n",
              "      action: 'starting',\n",
              "    }\n",
              "  };\n",
              "\n",
              "  cancel.remove();\n",
              "\n",
              "  // Disable the input element since further picks are not allowed.\n",
              "  inputElement.disabled = true;\n",
              "\n",
              "  if (!files) {\n",
              "    return {\n",
              "      response: {\n",
              "        action: 'complete',\n",
              "      }\n",
              "    };\n",
              "  }\n",
              "\n",
              "  for (const file of files) {\n",
              "    const li = document.createElement('li');\n",
              "    li.append(span(file.name, {fontWeight: 'bold'}));\n",
              "    li.append(span(\n",
              "        `(${file.type || 'n/a'}) - ${file.size} bytes, ` +\n",
              "        `last modified: ${\n",
              "            file.lastModifiedDate ? file.lastModifiedDate.toLocaleDateString() :\n",
              "                                    'n/a'} - `));\n",
              "    const percent = span('0% done');\n",
              "    li.appendChild(percent);\n",
              "\n",
              "    outputElement.appendChild(li);\n",
              "\n",
              "    const fileDataPromise = new Promise((resolve) => {\n",
              "      const reader = new FileReader();\n",
              "      reader.onload = (e) => {\n",
              "        resolve(e.target.result);\n",
              "      };\n",
              "      reader.readAsArrayBuffer(file);\n",
              "    });\n",
              "    // Wait for the data to be ready.\n",
              "    let fileData = yield {\n",
              "      promise: fileDataPromise,\n",
              "      response: {\n",
              "        action: 'continue',\n",
              "      }\n",
              "    };\n",
              "\n",
              "    // Use a chunked sending to avoid message size limits. See b/62115660.\n",
              "    let position = 0;\n",
              "    do {\n",
              "      const length = Math.min(fileData.byteLength - position, MAX_PAYLOAD_SIZE);\n",
              "      const chunk = new Uint8Array(fileData, position, length);\n",
              "      position += length;\n",
              "\n",
              "      const base64 = btoa(String.fromCharCode.apply(null, chunk));\n",
              "      yield {\n",
              "        response: {\n",
              "          action: 'append',\n",
              "          file: file.name,\n",
              "          data: base64,\n",
              "        },\n",
              "      };\n",
              "\n",
              "      let percentDone = fileData.byteLength === 0 ?\n",
              "          100 :\n",
              "          Math.round((position / fileData.byteLength) * 100);\n",
              "      percent.textContent = `${percentDone}% done`;\n",
              "\n",
              "    } while (position < fileData.byteLength);\n",
              "  }\n",
              "\n",
              "  // All done.\n",
              "  yield {\n",
              "    response: {\n",
              "      action: 'complete',\n",
              "    }\n",
              "  };\n",
              "}\n",
              "\n",
              "scope.google = scope.google || {};\n",
              "scope.google.colab = scope.google.colab || {};\n",
              "scope.google.colab._files = {\n",
              "  _uploadFiles,\n",
              "  _uploadFilesContinue,\n",
              "};\n",
              "})(self);\n",
              "</script> "
            ]
          },
          "metadata": {}
        },
        {
          "output_type": "stream",
          "name": "stdout",
          "text": [
            "Saving kaggle.json to kaggle.json\n",
            "mkdir: cannot create directory ‘/root/.kaggle’: File exists\n",
            "ref                                                      title                                     size  lastUpdated          downloadCount  voteCount  usabilityRating  \n",
            "-------------------------------------------------------  ---------------------------------------  -----  -------------------  -------------  ---------  ---------------  \n",
            "themrityunjaypathak/covid-cases-and-deaths-worldwide     Covid Cases and Deaths WorldWide           8KB  2023-02-01 12:22:51          11361        376  1.0              \n",
            "naveenkumar20bps1137/walmart-sales-analysis              WALMART SALES ANALYSIS                   119KB  2023-03-03 18:02:11           1794         49  0.9411765        \n",
            "datascientistanna/customers-dataset                      Shop Customer Data                        23KB  2023-02-07 18:42:21           9785        222  1.0              \n",
            "ulrikthygepedersen/co2-emissions-by-country              CO2 Emissions                            114KB  2023-02-28 12:39:49            872         28  1.0              \n",
            "amaanansari09/most-streamed-songs-all-time               Most Streamed Songs (All Time)             8KB  2023-03-08 10:56:24            938         30  1.0              \n",
            "ulrikthygepedersen/populations                           Populations                              124KB  2023-02-28 12:43:44            588         23  1.0              \n",
            "thedevastator/airbnb-prices-in-european-cities           Airbnb Prices in European Cities           4MB  2023-02-20 09:48:04           3357         69  1.0              \n",
            "rkiattisak/student-performance-in-mathematics            Student performance prediction             9KB  2023-03-12 04:32:56            798         30  0.8235294        \n",
            "sunayanagawde/countrywise-covid-cases                    Countrywise COVID cases                    4KB  2023-02-23 15:07:35            967         24  1.0              \n",
            "amaanansari09/top-100-songs                              Top 100 songs                              6KB  2023-03-12 10:06:03           2945         90  1.0              \n",
            "rkiattisak/mobile-phone-price                            Mobile Phone Price                         5KB  2023-03-09 04:15:24            685         26  1.0              \n",
            "iabdulw/co2-emissions-uk                                 CO2 Emissions UK                          935B  2023-03-09 01:02:40            260         22  1.0              \n",
            "justin2028/unemployment-in-america-per-us-state          Unemployment in America, Per US State    826KB  2023-03-02 07:26:03           1000         48  1.0              \n",
            "cdeotte/census-data-for-godaddy                          Census Data for GoDaddy                   14MB  2023-02-21 07:59:53            959        124  0.47058824       \n",
            "rajugc/imdb-top-250-movies-dataset                       IMDB Top 250 Movies Dataset               52KB  2023-02-11 16:02:01           3909         88  1.0              \n",
            "shrikrishnaparab/forbes-billionaires-and-companies-2022  Forbes Billionaires and Companies 2022   735KB  2023-02-17 06:15:43           1162         25  1.0              \n",
            "karkavelrajaj/amazon-sales-dataset                       Amazon Sales Dataset                       2MB  2023-01-17 06:21:15          11749        171  1.0              \n",
            "warcoder/earthquake-dataset                              Earthquake dataset                        35KB  2023-02-26 09:59:04           1122         36  1.0              \n",
            "rkiattisak/salaly-prediction-for-beginer                 Salary Prediction dataset                  3KB  2023-03-07 02:45:11            632         30  1.0              \n",
            "anas123siddiqui/mobiles                                  Mobiles                                   59KB  2023-02-18 16:37:24           1655         47  1.0              \n"
          ]
        }
      ]
    },
    {
      "cell_type": "code",
      "execution_count": null,
      "metadata": {
        "id": "-5vDghAKKs_j",
        "colab": {
          "base_uri": "https://localhost:8080/"
        },
        "outputId": "4ca9d52f-bd6a-422e-a843-b6e95d9e555f"
      },
      "outputs": [
        {
          "output_type": "stream",
          "name": "stdout",
          "text": [
            "Downloading mammography-image-patch-classification-2023.zip to /content\n",
            " 99% 457M/460M [00:15<00:00, 18.9MB/s]\n",
            "100% 460M/460M [00:15<00:00, 30.9MB/s]\n"
          ]
        }
      ],
      "source": [
        "!kaggle competitions download -c mammography-image-patch-classification-2023"
      ]
    },
    {
      "cell_type": "code",
      "source": [
        "# data directory\n",
        "!mkdir data\n",
        "# unzip data there,\n",
        "!unzip mammography-image-patch-classification-2023.zip -d data"
      ],
      "metadata": {
        "id": "pjbOlXDANaJv"
      },
      "execution_count": null,
      "outputs": []
    },
    {
      "cell_type": "code",
      "source": [],
      "metadata": {
        "id": "aYaOqlY-QUW_"
      },
      "execution_count": null,
      "outputs": []
    }
  ]
}