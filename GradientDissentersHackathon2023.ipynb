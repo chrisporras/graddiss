{
  "nbformat": 4,
  "nbformat_minor": 0,
  "metadata": {
    "colab": {
      "provenance": [],
      "include_colab_link": true
    },
    "kernelspec": {
      "name": "python3",
      "display_name": "Python 3"
    },
    "language_info": {
      "name": "python"
    },
    "accelerator": "GPU",
    "gpuClass": "standard",
    "widgets": {
      "application/vnd.jupyter.widget-state+json": {
        "d78cbfdca6714bd59bdf2d963d758624": {
          "model_module": "@jupyter-widgets/controls",
          "model_name": "HBoxModel",
          "model_module_version": "1.5.0",
          "state": {
            "_dom_classes": [],
            "_model_module": "@jupyter-widgets/controls",
            "_model_module_version": "1.5.0",
            "_model_name": "HBoxModel",
            "_view_count": null,
            "_view_module": "@jupyter-widgets/controls",
            "_view_module_version": "1.5.0",
            "_view_name": "HBoxView",
            "box_style": "",
            "children": [
              "IPY_MODEL_a7e8262031f845958dde5637c4118b7a",
              "IPY_MODEL_e002f23bf2a74aa7ae778bc85a4c16c0",
              "IPY_MODEL_8540689e35544f4ca8c5839847e26942"
            ],
            "layout": "IPY_MODEL_80f581868a74444c9815750daa02ffd7"
          }
        },
        "a7e8262031f845958dde5637c4118b7a": {
          "model_module": "@jupyter-widgets/controls",
          "model_name": "HTMLModel",
          "model_module_version": "1.5.0",
          "state": {
            "_dom_classes": [],
            "_model_module": "@jupyter-widgets/controls",
            "_model_module_version": "1.5.0",
            "_model_name": "HTMLModel",
            "_view_count": null,
            "_view_module": "@jupyter-widgets/controls",
            "_view_module_version": "1.5.0",
            "_view_name": "HTMLView",
            "description": "",
            "description_tooltip": null,
            "layout": "IPY_MODEL_2d7e914efbfd4bb395f30a634045f02e",
            "placeholder": "​",
            "style": "IPY_MODEL_9230f12be33c42a499aa5ed3622041f2",
            "value": "100%"
          }
        },
        "e002f23bf2a74aa7ae778bc85a4c16c0": {
          "model_module": "@jupyter-widgets/controls",
          "model_name": "FloatProgressModel",
          "model_module_version": "1.5.0",
          "state": {
            "_dom_classes": [],
            "_model_module": "@jupyter-widgets/controls",
            "_model_module_version": "1.5.0",
            "_model_name": "FloatProgressModel",
            "_view_count": null,
            "_view_module": "@jupyter-widgets/controls",
            "_view_module_version": "1.5.0",
            "_view_name": "ProgressView",
            "bar_style": "success",
            "description": "",
            "description_tooltip": null,
            "layout": "IPY_MODEL_b6e9d8e02b794773bfdb6d5a2c6a9de5",
            "max": 102530333,
            "min": 0,
            "orientation": "horizontal",
            "style": "IPY_MODEL_bdb78cb371fe43778d2a4204cf2fb4db",
            "value": 102530333
          }
        },
        "8540689e35544f4ca8c5839847e26942": {
          "model_module": "@jupyter-widgets/controls",
          "model_name": "HTMLModel",
          "model_module_version": "1.5.0",
          "state": {
            "_dom_classes": [],
            "_model_module": "@jupyter-widgets/controls",
            "_model_module_version": "1.5.0",
            "_model_name": "HTMLModel",
            "_view_count": null,
            "_view_module": "@jupyter-widgets/controls",
            "_view_module_version": "1.5.0",
            "_view_name": "HTMLView",
            "description": "",
            "description_tooltip": null,
            "layout": "IPY_MODEL_13f278ed3aa04014a284988821001bf9",
            "placeholder": "​",
            "style": "IPY_MODEL_320a09ce33d44ca190038518dfcf81ff",
            "value": " 97.8M/97.8M [00:00&lt;00:00, 191MB/s]"
          }
        },
        "80f581868a74444c9815750daa02ffd7": {
          "model_module": "@jupyter-widgets/base",
          "model_name": "LayoutModel",
          "model_module_version": "1.2.0",
          "state": {
            "_model_module": "@jupyter-widgets/base",
            "_model_module_version": "1.2.0",
            "_model_name": "LayoutModel",
            "_view_count": null,
            "_view_module": "@jupyter-widgets/base",
            "_view_module_version": "1.2.0",
            "_view_name": "LayoutView",
            "align_content": null,
            "align_items": null,
            "align_self": null,
            "border": null,
            "bottom": null,
            "display": null,
            "flex": null,
            "flex_flow": null,
            "grid_area": null,
            "grid_auto_columns": null,
            "grid_auto_flow": null,
            "grid_auto_rows": null,
            "grid_column": null,
            "grid_gap": null,
            "grid_row": null,
            "grid_template_areas": null,
            "grid_template_columns": null,
            "grid_template_rows": null,
            "height": null,
            "justify_content": null,
            "justify_items": null,
            "left": null,
            "margin": null,
            "max_height": null,
            "max_width": null,
            "min_height": null,
            "min_width": null,
            "object_fit": null,
            "object_position": null,
            "order": null,
            "overflow": null,
            "overflow_x": null,
            "overflow_y": null,
            "padding": null,
            "right": null,
            "top": null,
            "visibility": null,
            "width": null
          }
        },
        "2d7e914efbfd4bb395f30a634045f02e": {
          "model_module": "@jupyter-widgets/base",
          "model_name": "LayoutModel",
          "model_module_version": "1.2.0",
          "state": {
            "_model_module": "@jupyter-widgets/base",
            "_model_module_version": "1.2.0",
            "_model_name": "LayoutModel",
            "_view_count": null,
            "_view_module": "@jupyter-widgets/base",
            "_view_module_version": "1.2.0",
            "_view_name": "LayoutView",
            "align_content": null,
            "align_items": null,
            "align_self": null,
            "border": null,
            "bottom": null,
            "display": null,
            "flex": null,
            "flex_flow": null,
            "grid_area": null,
            "grid_auto_columns": null,
            "grid_auto_flow": null,
            "grid_auto_rows": null,
            "grid_column": null,
            "grid_gap": null,
            "grid_row": null,
            "grid_template_areas": null,
            "grid_template_columns": null,
            "grid_template_rows": null,
            "height": null,
            "justify_content": null,
            "justify_items": null,
            "left": null,
            "margin": null,
            "max_height": null,
            "max_width": null,
            "min_height": null,
            "min_width": null,
            "object_fit": null,
            "object_position": null,
            "order": null,
            "overflow": null,
            "overflow_x": null,
            "overflow_y": null,
            "padding": null,
            "right": null,
            "top": null,
            "visibility": null,
            "width": null
          }
        },
        "9230f12be33c42a499aa5ed3622041f2": {
          "model_module": "@jupyter-widgets/controls",
          "model_name": "DescriptionStyleModel",
          "model_module_version": "1.5.0",
          "state": {
            "_model_module": "@jupyter-widgets/controls",
            "_model_module_version": "1.5.0",
            "_model_name": "DescriptionStyleModel",
            "_view_count": null,
            "_view_module": "@jupyter-widgets/base",
            "_view_module_version": "1.2.0",
            "_view_name": "StyleView",
            "description_width": ""
          }
        },
        "b6e9d8e02b794773bfdb6d5a2c6a9de5": {
          "model_module": "@jupyter-widgets/base",
          "model_name": "LayoutModel",
          "model_module_version": "1.2.0",
          "state": {
            "_model_module": "@jupyter-widgets/base",
            "_model_module_version": "1.2.0",
            "_model_name": "LayoutModel",
            "_view_count": null,
            "_view_module": "@jupyter-widgets/base",
            "_view_module_version": "1.2.0",
            "_view_name": "LayoutView",
            "align_content": null,
            "align_items": null,
            "align_self": null,
            "border": null,
            "bottom": null,
            "display": null,
            "flex": null,
            "flex_flow": null,
            "grid_area": null,
            "grid_auto_columns": null,
            "grid_auto_flow": null,
            "grid_auto_rows": null,
            "grid_column": null,
            "grid_gap": null,
            "grid_row": null,
            "grid_template_areas": null,
            "grid_template_columns": null,
            "grid_template_rows": null,
            "height": null,
            "justify_content": null,
            "justify_items": null,
            "left": null,
            "margin": null,
            "max_height": null,
            "max_width": null,
            "min_height": null,
            "min_width": null,
            "object_fit": null,
            "object_position": null,
            "order": null,
            "overflow": null,
            "overflow_x": null,
            "overflow_y": null,
            "padding": null,
            "right": null,
            "top": null,
            "visibility": null,
            "width": null
          }
        },
        "bdb78cb371fe43778d2a4204cf2fb4db": {
          "model_module": "@jupyter-widgets/controls",
          "model_name": "ProgressStyleModel",
          "model_module_version": "1.5.0",
          "state": {
            "_model_module": "@jupyter-widgets/controls",
            "_model_module_version": "1.5.0",
            "_model_name": "ProgressStyleModel",
            "_view_count": null,
            "_view_module": "@jupyter-widgets/base",
            "_view_module_version": "1.2.0",
            "_view_name": "StyleView",
            "bar_color": null,
            "description_width": ""
          }
        },
        "13f278ed3aa04014a284988821001bf9": {
          "model_module": "@jupyter-widgets/base",
          "model_name": "LayoutModel",
          "model_module_version": "1.2.0",
          "state": {
            "_model_module": "@jupyter-widgets/base",
            "_model_module_version": "1.2.0",
            "_model_name": "LayoutModel",
            "_view_count": null,
            "_view_module": "@jupyter-widgets/base",
            "_view_module_version": "1.2.0",
            "_view_name": "LayoutView",
            "align_content": null,
            "align_items": null,
            "align_self": null,
            "border": null,
            "bottom": null,
            "display": null,
            "flex": null,
            "flex_flow": null,
            "grid_area": null,
            "grid_auto_columns": null,
            "grid_auto_flow": null,
            "grid_auto_rows": null,
            "grid_column": null,
            "grid_gap": null,
            "grid_row": null,
            "grid_template_areas": null,
            "grid_template_columns": null,
            "grid_template_rows": null,
            "height": null,
            "justify_content": null,
            "justify_items": null,
            "left": null,
            "margin": null,
            "max_height": null,
            "max_width": null,
            "min_height": null,
            "min_width": null,
            "object_fit": null,
            "object_position": null,
            "order": null,
            "overflow": null,
            "overflow_x": null,
            "overflow_y": null,
            "padding": null,
            "right": null,
            "top": null,
            "visibility": null,
            "width": null
          }
        },
        "320a09ce33d44ca190038518dfcf81ff": {
          "model_module": "@jupyter-widgets/controls",
          "model_name": "DescriptionStyleModel",
          "model_module_version": "1.5.0",
          "state": {
            "_model_module": "@jupyter-widgets/controls",
            "_model_module_version": "1.5.0",
            "_model_name": "DescriptionStyleModel",
            "_view_count": null,
            "_view_module": "@jupyter-widgets/base",
            "_view_module_version": "1.2.0",
            "_view_name": "StyleView",
            "description_width": ""
          }
        }
      }
    }
  },
  "cells": [
    {
      "cell_type": "markdown",
      "metadata": {
        "id": "view-in-github",
        "colab_type": "text"
      },
      "source": [
        "<a href=\"https://colab.research.google.com/github/chrisporras/graddiss/blob/main/GradientDissentersHackathon2023.ipynb\" target=\"_parent\"><img src=\"https://colab.research.google.com/assets/colab-badge.svg\" alt=\"Open In Colab\"/></a>"
      ]
    },
    {
      "cell_type": "markdown",
      "source": [
        "# Hackathon 2023\n",
        "ML for Biomedical Data Science\n",
        "Team Gradient Dissenters\n",
        "\n",
        "Members: Audrey Lee, Christian Porras, Joy Jiang"
      ],
      "metadata": {
        "id": "LaUpnlSSLNgW"
      }
    },
    {
      "cell_type": "markdown",
      "source": [
        "# **MODEL 1: PRETRAINED RESNET50**\n",
        "\n"
      ],
      "metadata": {
        "id": "11tsbdNvbMCI"
      }
    },
    {
      "cell_type": "markdown",
      "source": [
        "## I. Install and load Kaggle mammography"
      ],
      "metadata": {
        "id": "T1oUMWouNeiE"
      }
    },
    {
      "cell_type": "code",
      "source": [
        "# Clone project git repo\n",
        "!git clone https://github.com/chrisporras/graddiss.git"
      ],
      "metadata": {
        "colab": {
          "base_uri": "https://localhost:8080/"
        },
        "id": "ZZ5hfAgsYW7J",
        "outputId": "6284eac6-4097-4468-dac1-75e660710068"
      },
      "execution_count": null,
      "outputs": [
        {
          "output_type": "stream",
          "name": "stdout",
          "text": [
            "Cloning into 'graddiss'...\n",
            "remote: Enumerating objects: 20, done.\u001b[K\n",
            "remote: Counting objects: 100% (20/20), done.\u001b[K\n",
            "remote: Compressing objects: 100% (20/20), done.\u001b[K\n",
            "remote: Total 20 (delta 5), reused 0 (delta 0), pack-reused 0\u001b[K\n",
            "Unpacking objects: 100% (20/20), 92.29 KiB | 1.49 MiB/s, done.\n"
          ]
        }
      ]
    },
    {
      "cell_type": "code",
      "source": [
        "# install Kaggle public api\n",
        "! pip install -q kaggle\n",
        "# Choose the kaggle.json file that you downloaded\n",
        "! mkdir ~/.kaggle\n",
        "! cp ./graddiss/kaggle.json ~/.kaggle/\n",
        "# Make directory named kaggle and copy kaggle.json file there.\n",
        "!chmod 600 ~/.kaggle/kaggle.json\n",
        "#Change the permissions of the file.\n",
        "! kaggle datasets list"
      ],
      "metadata": {
        "colab": {
          "base_uri": "https://localhost:8080/"
        },
        "id": "oWIu_0WgL2so",
        "outputId": "e1a07441-d4c7-455e-b192-c04b2207b7ee"
      },
      "execution_count": null,
      "outputs": [
        {
          "output_type": "stream",
          "name": "stdout",
          "text": [
            "ref                                                      title                                     size  lastUpdated          downloadCount  voteCount  usabilityRating  \n",
            "-------------------------------------------------------  ---------------------------------------  -----  -------------------  -------------  ---------  ---------------  \n",
            "themrityunjaypathak/covid-cases-and-deaths-worldwide     Covid Cases and Deaths WorldWide           8KB  2023-02-01 12:22:51          11392        380  1.0              \n",
            "naveenkumar20bps1137/walmart-sales-analysis              WALMART SALES ANALYSIS                   119KB  2023-03-03 18:02:11           1825         50  0.9411765        \n",
            "datascientistanna/customers-dataset                      Shop Customer Data                        23KB  2023-02-07 18:42:21           9816        222  1.0              \n",
            "ulrikthygepedersen/co2-emissions-by-country              CO2 Emissions                            114KB  2023-02-28 12:39:49            876         28  1.0              \n",
            "amaanansari09/most-streamed-songs-all-time               Most Streamed Songs (All Time)             8KB  2023-03-08 10:56:24            960         30  1.0              \n",
            "ulrikthygepedersen/populations                           Populations                              124KB  2023-02-28 12:43:44            591         23  1.0              \n",
            "thedevastator/airbnb-prices-in-european-cities           Airbnb Prices in European Cities           4MB  2023-02-20 09:48:04           3396         69  1.0              \n",
            "rkiattisak/student-performance-in-mathematics            Student performance prediction             9KB  2023-03-12 04:32:56            807         30  0.8235294        \n",
            "sunayanagawde/countrywise-covid-cases                    Countrywise COVID cases                    4KB  2023-02-23 15:07:35            967         24  1.0              \n",
            "amaanansari09/top-100-songs                              Top 100 songs                              6KB  2023-03-12 10:06:03           2951         90  1.0              \n",
            "rkiattisak/mobile-phone-price                            Mobile Phone Price                         5KB  2023-03-09 04:15:24            689         26  1.0              \n",
            "iabdulw/co2-emissions-uk                                 CO2 Emissions UK                          935B  2023-03-09 01:02:40            261         22  1.0              \n",
            "justin2028/unemployment-in-america-per-us-state          Unemployment in America, Per US State    826KB  2023-03-02 07:26:03           1003         48  1.0              \n",
            "cdeotte/census-data-for-godaddy                          Census Data for GoDaddy                   14MB  2023-02-21 07:59:53            962        124  0.47058824       \n",
            "rajugc/imdb-top-250-movies-dataset                       IMDB Top 250 Movies Dataset               52KB  2023-02-11 16:02:01           3917         88  1.0              \n",
            "shrikrishnaparab/forbes-billionaires-and-companies-2022  Forbes Billionaires and Companies 2022   735KB  2023-02-17 06:15:43           1164         25  1.0              \n",
            "karkavelrajaj/amazon-sales-dataset                       Amazon Sales Dataset                       2MB  2023-01-17 06:21:15          11775        171  1.0              \n",
            "warcoder/earthquake-dataset                              Earthquake dataset                        35KB  2023-02-26 09:59:04           1130         36  1.0              \n",
            "rkiattisak/salaly-prediction-for-beginer                 Salary Prediction dataset                  3KB  2023-03-07 02:45:11            636         30  1.0              \n",
            "anas123siddiqui/mobiles                                  Mobiles                                   59KB  2023-02-18 16:37:24           1660         47  1.0              \n"
          ]
        }
      ]
    },
    {
      "cell_type": "code",
      "execution_count": null,
      "metadata": {
        "id": "-5vDghAKKs_j",
        "colab": {
          "base_uri": "https://localhost:8080/"
        },
        "outputId": "c861b3d0-4f79-415f-a9a0-be9788238372"
      },
      "outputs": [
        {
          "output_type": "stream",
          "name": "stdout",
          "text": [
            "Downloading mammography-image-patch-classification-2023.zip to /content\n",
            " 98% 450M/460M [00:05<00:00, 88.9MB/s]\n",
            "100% 460M/460M [00:05<00:00, 89.1MB/s]\n"
          ]
        }
      ],
      "source": [
        "!kaggle competitions download -c mammography-image-patch-classification-2023"
      ]
    },
    {
      "cell_type": "code",
      "source": [
        "# data directory\n",
        "!mkdir data\n",
        "# unzip data there,\n",
        "!unzip mammography-image-patch-classification-2023.zip -d data"
      ],
      "metadata": {
        "id": "pjbOlXDANaJv"
      },
      "execution_count": null,
      "outputs": []
    },
    {
      "cell_type": "markdown",
      "source": [
        "## II. Prepare data.\n",
        "### A. Create datasets."
      ],
      "metadata": {
        "id": "9HUTxbn1XxLJ"
      }
    },
    {
      "cell_type": "code",
      "source": [
        "# Configuration class\n",
        "class Config:\n",
        "    resize = False\n",
        "    batch_size = 64\n",
        "    numworkers = 2"
      ],
      "metadata": {
        "id": "7WrwB_1lX3pc"
      },
      "execution_count": null,
      "outputs": []
    },
    {
      "cell_type": "code",
      "source": [
        "# CustomImageDataset class\n",
        "import numpy as np\n",
        "import os\n",
        "import torch\n",
        "from PIL import Image\n",
        "import torchvision\n",
        "from skimage import io, img_as_float32\n",
        "import numpy as np\n",
        "import torch\n",
        "\n",
        "class ToTensor3D(object):\n",
        "    \"\"\"Convert ndarrays in sample to Tensors.\"\"\"\n",
        "    def __call__(self, image):\n",
        "        image = img_as_float32(image)\n",
        "        # The following two lines are to duplicate the grayscale image onto\n",
        "        # 3 channels. That's to make the input compatible with those models\n",
        "        # trained on color images. If you don't use pretrained models, you can\n",
        "        # delete these two lines.\n",
        "        new_shape = (3,) + image.shape\n",
        "        dup_img = np.broadcast_to(image, new_shape)\n",
        "\n",
        "        # Normalize if needed.\n",
        "        # normalize0, normalize1 = [0.4914, 0.4822, 0.4465], [0.2023, 0.1994, 0.2010]\n",
        "        # normalize = torchvision.transforms.Normalize(normalize0, normalize1)\n",
        "        # image_tensor = normalize(dup_img)\n",
        "\n",
        "        return torch.from_numpy(dup_img.copy())\n",
        "        # torch.from_numpy\n",
        "\n",
        "transform = ToTensor3D()\n",
        "\n",
        "class CustomImageDataset(torch.utils.data.Dataset):\n",
        "    def __init__(self, image_dir, df):\n",
        "        # Create one iterable that get be __getitemed__\n",
        "        self.image_dir = image_dir\n",
        "        self.df = df\n",
        "\n",
        "    def __len__(self): # Denotes the total number of samples\n",
        "        return self.df.shape[0]\n",
        "\n",
        "    def __getitem__(self, index): # Generates one sample of data\n",
        "        label = torch.tensor(self.df.iloc[index]['label_num'],dtype=torch.long) \n",
        "\n",
        "        # Goes to image_tensor below\n",
        "        image_path = os.path.join(self.image_dir, self.df.iloc[index]['img_name'])\n",
        "        image_og = Image.open(image_path)\n",
        "        image = transform(image_og)\n",
        "\n",
        "        # Resize, depending on the network\n",
        "        if Config.resize:\n",
        "            resize = torchvision.transforms.Resize(384)\n",
        "            image = resize(image)\n",
        "        \n",
        "        return image, label"
      ],
      "metadata": {
        "id": "FWwpLDoBYAuE"
      },
      "execution_count": null,
      "outputs": []
    },
    {
      "cell_type": "code",
      "source": [
        "import pandas as pd\n",
        "\n",
        "# New numeric labels.\n",
        "labels_num = {'background': 0, 'calc_ben': 1, 'calc_mal': 2, 'mass_ben': 3, 'mass_mal': 4}\n",
        "\n",
        "# Create datasets\n",
        "traindf = pd.read_csv('data/train.csv') \n",
        "# traindf['label'] = traindf['label'].astype(int) # Can't convert string to int :) \n",
        "traindf['label_num'] = traindf['label'].map(labels_num)\n",
        "train_dataset = CustomImageDataset('data/train_imgs', traindf)\n",
        "\n",
        "testdf = pd.read_csv('data/test.csv') \n",
        "# testdf['label'] = testdf['label'].astype(int) # Can't convert string to int :) \n",
        "test_dataset = CustomImageDataset('data/test_imgs', testdf)\n",
        "\n",
        "print(traindf.head())"
      ],
      "metadata": {
        "id": "1Ard4jFiYKLo",
        "colab": {
          "base_uri": "https://localhost:8080/"
        },
        "outputId": "134fbe20-507c-4c06-d280-f03375a2f713"
      },
      "execution_count": null,
      "outputs": [
        {
          "output_type": "stream",
          "name": "stdout",
          "text": [
            "        id     label     img_name  label_num\n",
            "0  P000001  calc_ben  P000001.png          1\n",
            "1  P000002  calc_ben  P000002.png          1\n",
            "2  P000003  mass_ben  P000003.png          3\n",
            "3  P000004  mass_mal  P000004.png          4\n",
            "4  P000005  calc_mal  P000005.png          2\n"
          ]
        }
      ]
    },
    {
      "cell_type": "code",
      "source": [
        "# Examine paths.\n",
        "label = traindf.iloc[1]['label']\n",
        "\n",
        "image_path = os.path.join('data/train_imgs', traindf.iloc[1]['img_name'])\n",
        "print(label)\n",
        "print(image_path)"
      ],
      "metadata": {
        "colab": {
          "base_uri": "https://localhost:8080/"
        },
        "id": "o7_zs42zh50v",
        "outputId": "f3e717f7-a479-4986-f1c0-4b60678d3265"
      },
      "execution_count": null,
      "outputs": [
        {
          "output_type": "stream",
          "name": "stdout",
          "text": [
            "calc_ben\n",
            "data/train_imgs/P000002.png\n"
          ]
        }
      ]
    },
    {
      "cell_type": "markdown",
      "source": [
        "### B. Create dataloaders."
      ],
      "metadata": {
        "id": "WVGdhYt0adnx"
      }
    },
    {
      "cell_type": "code",
      "source": [
        "train_size = int(0.5 * len(train_dataset))\n",
        "test_size = len(train_dataset) - train_size\n",
        "train_data, test_data = torch.utils.data.random_split(\n",
        "    train_dataset, [train_size, test_size])\n",
        "\n",
        "train_loader = torch.utils.data.DataLoader(\n",
        "    train_data, Config.batch_size, shuffle=True, num_workers=Config.numworkers)\n",
        "test_loader = torch.utils.data.DataLoader(\n",
        "    test_data, Config.batch_size, shuffle=False, num_workers=Config.numworkers) \n"
      ],
      "metadata": {
        "id": "ouVa4OyqafcR"
      },
      "execution_count": null,
      "outputs": []
    },
    {
      "cell_type": "markdown",
      "source": [
        "## III. Try ResNet50"
      ],
      "metadata": {
        "id": "Wi1uKgH0e6Eb"
      }
    },
    {
      "cell_type": "code",
      "source": [
        "from __future__ import print_function, division\n",
        "\n",
        "import torch\n",
        "import torch.nn as nn\n",
        "import torch.optim as optim\n",
        "from torch.optim import lr_scheduler\n",
        "import torch.backends.cudnn as cudnn\n",
        "import numpy as np\n",
        "import torchvision\n",
        "from torchvision import datasets, models, transforms\n",
        "import matplotlib.pyplot as plt\n",
        "import time\n",
        "import os\n",
        "import copy\n",
        "import random\n",
        "\n",
        "cudnn.benchmark = True\n",
        "plt.ion()   # interactive mode"
      ],
      "metadata": {
        "colab": {
          "base_uri": "https://localhost:8080/"
        },
        "id": "ncrEJlYOfH98",
        "outputId": "edb4aa42-9f42-48d1-bad4-c3f1f545bfb7"
      },
      "execution_count": null,
      "outputs": [
        {
          "output_type": "execute_result",
          "data": {
            "text/plain": [
              "<matplotlib.pyplot._IonContext at 0x7fc458136c10>"
            ]
          },
          "metadata": {},
          "execution_count": 10
        }
      ]
    },
    {
      "cell_type": "code",
      "source": [
        "# Evaluate function\n",
        "def model_eval(model, loader_, criterion):\n",
        "    # Test the model\n",
        "    model.eval()\n",
        "    eval_loss = 0\n",
        "    correct = 0\n",
        "    with torch.no_grad():\n",
        "        for data, target in loader_:\n",
        "            data = data.to(device) # Calculate on GPU\n",
        "            target = target.to(device)\n",
        "            output = model(data)\n",
        "            eval_loss += criterion(output, target).item()\n",
        "            pred = output.argmax(dim=1, keepdim=True) \n",
        "            correct += pred.eq(target.view_as(pred)).sum().item() # Compare to target and calculate accuracy\n",
        "\n",
        "    eval_loss /= len(loader_)\n",
        "    eval_acc = correct/len(loader_.dataset)\n",
        "    return eval_loss, eval_acc"
      ],
      "metadata": {
        "id": "GSWkc7wMghae"
      },
      "execution_count": null,
      "outputs": []
    },
    {
      "cell_type": "code",
      "source": [
        "import time\n",
        "\n",
        "# Initialize the model, loss function, and optimizer\n",
        "model = models.resnet50(pretrained=True)\n",
        "criterion = nn.CrossEntropyLoss()\n",
        "optimizer = optim.Adam(model.parameters(), lr=0.001, weight_decay=5e-4)\n",
        "\n",
        "# Change the output to 5 classes\n",
        "num_ftrs = model.fc.in_features\n",
        "model.fc = torch.nn.Linear(num_ftrs, 5)\n",
        "\n",
        "device = torch.device(\"cuda:0\" if torch.cuda.is_available() else \"cpu\")"
      ],
      "metadata": {
        "colab": {
          "base_uri": "https://localhost:8080/",
          "height": 158,
          "referenced_widgets": [
            "d78cbfdca6714bd59bdf2d963d758624",
            "a7e8262031f845958dde5637c4118b7a",
            "e002f23bf2a74aa7ae778bc85a4c16c0",
            "8540689e35544f4ca8c5839847e26942",
            "80f581868a74444c9815750daa02ffd7",
            "2d7e914efbfd4bb395f30a634045f02e",
            "9230f12be33c42a499aa5ed3622041f2",
            "b6e9d8e02b794773bfdb6d5a2c6a9de5",
            "bdb78cb371fe43778d2a4204cf2fb4db",
            "13f278ed3aa04014a284988821001bf9",
            "320a09ce33d44ca190038518dfcf81ff"
          ]
        },
        "id": "y4AIlIECcbuS",
        "outputId": "ad88e9f3-1925-44e9-d72d-701c53c82a9c"
      },
      "execution_count": null,
      "outputs": [
        {
          "output_type": "stream",
          "name": "stderr",
          "text": [
            "/usr/local/lib/python3.9/dist-packages/torchvision/models/_utils.py:208: UserWarning: The parameter 'pretrained' is deprecated since 0.13 and may be removed in the future, please use 'weights' instead.\n",
            "  warnings.warn(\n",
            "/usr/local/lib/python3.9/dist-packages/torchvision/models/_utils.py:223: UserWarning: Arguments other than a weight enum or `None` for 'weights' are deprecated since 0.13 and may be removed in the future. The current behavior is equivalent to passing `weights=ResNet50_Weights.IMAGENET1K_V1`. You can also use `weights=ResNet50_Weights.DEFAULT` to get the most up-to-date weights.\n",
            "  warnings.warn(msg)\n",
            "Downloading: \"https://download.pytorch.org/models/resnet50-0676ba61.pth\" to /root/.cache/torch/hub/checkpoints/resnet50-0676ba61.pth\n"
          ]
        },
        {
          "output_type": "display_data",
          "data": {
            "text/plain": [
              "  0%|          | 0.00/97.8M [00:00<?, ?B/s]"
            ],
            "application/vnd.jupyter.widget-view+json": {
              "version_major": 2,
              "version_minor": 0,
              "model_id": "d78cbfdca6714bd59bdf2d963d758624"
            }
          },
          "metadata": {}
        }
      ]
    },
    {
      "cell_type": "code",
      "source": [
        "# Get start time\n",
        "start_time = time.time()\n",
        "\n",
        "# Train the model\n",
        "model = model.to(device)\n",
        "best_acc = 0\n",
        "epoch_ls = []\n",
        "train_loss_ls = []\n",
        "val_loss_ls = []\n",
        "train_acc_ls = []\n",
        "val_acc_ls = []\n",
        "\n",
        "for epoch in range(10):\n",
        "    model.train()\n",
        "    train_loss = 0\n",
        "    correct = 0\n",
        "\n",
        "    # Gradient descent\n",
        "    for batch_idx, (data, target) in enumerate(train_loader):\n",
        "        optimizer.zero_grad()\n",
        "        data = data.to(device)\n",
        "        target = target.to(device)\n",
        "        output = model(data)\n",
        "        loss = criterion(output, target)\n",
        "        loss.backward() # Call backward propagation.\n",
        "        optimizer.step() # Step in optimizer. \n",
        "        train_loss += loss.item()\n",
        "        pred = output.argmax(dim=1, keepdim=True)\n",
        "        correct += pred.eq(target.view_as(pred)).sum().item()\n",
        "\n",
        "    # Calculate metrics\n",
        "    train_loss /= len(train_loader)\n",
        "    train_acc = correct/len(train_loader.dataset)\n",
        "    test_loss, test_acc = model_eval(model, test_loader, criterion)\n",
        "    print('Train Epoch: {}\\tLoss: {:.6f}\\tAcc: {:.3f}'\n",
        "          '\\tVal - Loss:{:.6f}\\tAcc:{:.3f}'.format(\n",
        "              epoch, train_loss, train_acc, test_loss, test_acc))\n",
        "    if test_acc > best_acc:\n",
        "        torch.save(model.state_dict(), 'best_model1.pt') # Save the best model. \n",
        "    \n",
        "    # Book-keep metrics\n",
        "    epoch_ls.append(epoch)\n",
        "    train_loss_ls.append(train_loss)\n",
        "    val_loss_ls.append(test_loss)\n",
        "    train_acc_ls.append(train_acc)\n",
        "    val_acc_ls.append(test_acc)\n",
        "    \n",
        "# Get end time\n",
        "print(\"Total run time: %s seconds\" % (time.time() - start_time))\n",
        "\n",
        "# Test the model\n",
        "# model.load_state_dict(torch.load('cifar_best_model.pt'))\n",
        "# test_loss, test_acc = model_eval(model, test_loader, criterion)\n",
        "# print('Test - Loss:{:.6f}\\tAcc:{:.3f}'.format(test_loss, test_acc))"
      ],
      "metadata": {
        "id": "SDcUZVvGgRwZ",
        "colab": {
          "base_uri": "https://localhost:8080/"
        },
        "outputId": "0a3e22a2-90e5-434c-b607-a8892de3fe8d"
      },
      "execution_count": null,
      "outputs": [
        {
          "output_type": "stream",
          "name": "stdout",
          "text": [
            "Train Epoch: 0\tLoss: 1.202477\tAcc: 0.521\tVal - Loss:7.377901\tAcc:0.452\n",
            "Train Epoch: 1\tLoss: 0.945556\tAcc: 0.609\tVal - Loss:61.424481\tAcc:0.452\n",
            "Train Epoch: 2\tLoss: 0.868295\tAcc: 0.648\tVal - Loss:3.131942\tAcc:0.385\n",
            "Train Epoch: 3\tLoss: 0.821258\tAcc: 0.667\tVal - Loss:12.976590\tAcc:0.452\n",
            "Train Epoch: 4\tLoss: 0.778340\tAcc: 0.678\tVal - Loss:18.503911\tAcc:0.452\n",
            "Train Epoch: 5\tLoss: 0.739732\tAcc: 0.688\tVal - Loss:87.110307\tAcc:0.452\n",
            "Train Epoch: 6\tLoss: 0.721542\tAcc: 0.709\tVal - Loss:7.595497\tAcc:0.452\n",
            "Train Epoch: 7\tLoss: 0.674895\tAcc: 0.721\tVal - Loss:3.158105\tAcc:0.452\n",
            "Train Epoch: 8\tLoss: 0.641818\tAcc: 0.741\tVal - Loss:10.883988\tAcc:0.452\n",
            "Train Epoch: 9\tLoss: 0.616113\tAcc: 0.741\tVal - Loss:4.183007\tAcc:0.113\n",
            "Total run time: 382.06275153160095 seconds\n"
          ]
        }
      ]
    },
    {
      "cell_type": "code",
      "source": [
        "# Initialize subplots\n",
        "import matplotlib.pyplot as plt\n",
        "figure, axis = plt.subplots(2, 1)\n",
        "\n",
        "# Plot\n",
        "import matplotlib.pyplot as plt\n",
        "axis[0].plot(epoch_ls, train_loss_ls, '.r--', label='Train Loss')\n",
        "axis[0].plot(epoch_ls, val_loss_ls, '.b-', label='Validation Loss')\n",
        "axis[0].set_xlabel(\"Epochs\")\n",
        "axis[0].set_ylabel(\"Loss\")\n",
        "axis[0].set_title(\"Train versus Validation Loss\")\n",
        "axis[0].legend()\n",
        "\n",
        "axis[1].plot(epoch_ls, train_acc_ls, '.r--', label='Train Accuracy')\n",
        "axis[1].plot(epoch_ls, val_acc_ls, '.b-', label='Validation Accuracy')\n",
        "axis[1].set_xlabel(\"Epochs\")\n",
        "axis[1].set_ylabel(\"Accuracy\")\n",
        "axis[1].set_title(\"Train versus Validation Accuracy\")\n",
        "axis[1].legend()\n",
        "\n",
        "# Apply labels \n",
        "plt.tight_layout()\n",
        "plt.show()"
      ],
      "metadata": {
        "colab": {
          "base_uri": "https://localhost:8080/",
          "height": 297
        },
        "id": "D6AJ1qgZsZmH",
        "outputId": "3cf12a60-5b4c-4330-c0c7-d88d7fbc5bdd"
      },
      "execution_count": null,
      "outputs": [
        {
          "output_type": "display_data",
          "data": {
            "text/plain": [
              "<Figure size 432x288 with 2 Axes>"
            ],
            "image/png": "[encoded data removed]"
          },
          "metadata": {
            "needs_background": "light"
          }
        }
      ]
    }
  ]
}